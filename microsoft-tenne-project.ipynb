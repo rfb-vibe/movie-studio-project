{
 "cells": [
  {
   "cell_type": "markdown",
   "metadata": {},
   "source": [
    "![example](images/director_shot.jpeg)"
   ]
  },
  {
   "cell_type": "markdown",
   "metadata": {},
   "source": [
    "# A Vision for Microsoft Tenné \n",
    "\n",
    "**Authors:** Rebecca Frost-Brewer\n",
    "***"
   ]
  },
  {
   "cell_type": "markdown",
   "metadata": {},
   "source": [
    "## Overview\n",
    "\n",
    "A one-paragraph overview of the project, including the business problem, data, methods, results and recommendations."
   ]
  },
  {
   "cell_type": "markdown",
   "metadata": {},
   "source": [
    "## Business Problem\n",
    "\n",
    "Summary of the business problem you are trying to solve, and the data questions that you plan to answer to solve them.\n",
    "\n",
    "***\n",
    "Questions to consider:\n",
    "* What are the business's pain points related to this project?\n",
    "* How did you pick the data analysis question(s) that you did?\n",
    "* Why are these questions important from a business perspective?\n",
    "***"
   ]
  },
  {
   "cell_type": "markdown",
   "metadata": {},
   "source": [
    "## Data Understanding\n",
    "\n",
    "Describe the data being used for this project.\n",
    "***\n",
    "Questions to consider:\n",
    "* Where did the data come from, and how do they relate to the data analysis questions?\n",
    "* What do the data represent? Who is in the sample and what variables are included?\n",
    "* What is the target variable?\n",
    "* What are the properties of the variables you intend to use?\n",
    "***"
   ]
  },
  {
   "cell_type": "code",
   "execution_count": 1,
   "metadata": {},
   "outputs": [],
   "source": [
    "# Import standard packages\n",
    "import pandas as pd\n",
    "import numpy as np\n",
    "import matplotlib.pyplot as plt\n",
    "import seaborn as sns\n",
    "\n",
    "%matplotlib inline"
   ]
  },
  {
   "cell_type": "code",
   "execution_count": 2,
   "metadata": {},
   "outputs": [],
   "source": [
    "# Import the data from The Movie Database\n",
    "tmdb_movies = pd.read_csv(\"data/zippedData/tmdb.movies.csv.gz\", index_col = 0)\n",
    "# here we specify the index column otherwise we'd have a duplicated index column\n",
    "\n",
    "# Import the data from IMDb\n",
    "imdb_title_basics = pd.read_csv(\"data/zippedData/imdb.title.basics.csv.gz\")\n",
    "imdb_title_ratings = pd.read_csv(\"data/zippedData/imdb.title.ratings.csv.gz\")\n",
    "\n",
    "# Import the Box Office Mojo data on the gross earnings of movies\n",
    "movie_gross = pd.read_csv(\"data/zippedData/bom.movie_gross.csv.gz\")\n",
    "\n",
    "# Join the two IMDb files into one dataframe\n",
    "imdbreviews = imdb_title_basics.join(imdb_title_ratings.set_index('tconst'),\n",
    "                                   how = 'inner', on = 'tconst', rsuffix = 'r')\n",
    "\n",
    "imdbreviews = imdbreviews.drop(columns = ['original_title', 'runtime_minutes', 'numvotes'])\n",
    "# Based on the documentation from IMDb, the primary title is the more popular title,\n",
    "# used by the filmmakers on promotional materials whereas the original title is the original title,\n",
    "# in its original language. I decided to drop the original title since we'll be more familiar with\n",
    "# the primary title\n",
    "\n",
    "imdbreviews.rename(columns = {'primary_title':'title'}, inplace = True)\n",
    "# Change the column name of the movie title to 'title', which will match our additional files"
   ]
  },
  {
   "cell_type": "code",
   "execution_count": 3,
   "metadata": {},
   "outputs": [
    {
     "name": "stdout",
     "output_type": "stream",
     "text": [
      "<class 'pandas.core.frame.DataFrame'>\n",
      "Int64Index: 73052 entries, 0 to 146134\n",
      "Data columns (total 5 columns):\n",
      " #   Column         Non-Null Count  Dtype  \n",
      "---  ------         --------------  -----  \n",
      " 0   tconst         73052 non-null  object \n",
      " 1   title          73052 non-null  object \n",
      " 2   start_year     73052 non-null  int64  \n",
      " 3   genres         73052 non-null  object \n",
      " 4   averagerating  73052 non-null  float64\n",
      "dtypes: float64(1), int64(1), object(3)\n",
      "memory usage: 3.3+ MB\n"
     ]
    }
   ],
   "source": [
    "imdbreviws = imdbreviews.dropna(inplace = True)\n",
    "imdbreviews.info()"
   ]
  },
  {
   "cell_type": "code",
   "execution_count": 4,
   "metadata": {},
   "outputs": [
    {
     "name": "stdout",
     "output_type": "stream",
     "text": [
      "<class 'pandas.core.frame.DataFrame'>\n",
      "Int64Index: 26517 entries, 0 to 26516\n",
      "Data columns (total 2 columns):\n",
      " #   Column        Non-Null Count  Dtype  \n",
      "---  ------        --------------  -----  \n",
      " 0   title         26517 non-null  object \n",
      " 1   vote_average  26517 non-null  float64\n",
      "dtypes: float64(1), object(1)\n",
      "memory usage: 621.5+ KB\n"
     ]
    }
   ],
   "source": [
    "# From The Movie Database dataframe, we only want the movie title and the vote average.\n",
    "tmdb_movies = tmdb_movies[['title', 'vote_average']]\n",
    "tmdb_movies.info()"
   ]
  },
  {
   "cell_type": "code",
   "execution_count": 5,
   "metadata": {},
   "outputs": [],
   "source": [
    "# From Box Office Mojo, we only want to keep the title and domestic gross earnings for the films\n",
    "movie_gross = movie_gross[['title', 'domestic_gross']]"
   ]
  },
  {
   "cell_type": "code",
   "execution_count": 6,
   "metadata": {},
   "outputs": [],
   "source": [
    "movie_gross['gross_mil'] = (movie_gross['domestic_gross'])/1000000"
   ]
  },
  {
   "cell_type": "code",
   "execution_count": 7,
   "metadata": {},
   "outputs": [
    {
     "name": "stdout",
     "output_type": "stream",
     "text": [
      "<class 'pandas.core.frame.DataFrame'>\n",
      "Int64Index: 3359 entries, 0 to 3386\n",
      "Data columns (total 2 columns):\n",
      " #   Column     Non-Null Count  Dtype  \n",
      "---  ------     --------------  -----  \n",
      " 0   title      3359 non-null   object \n",
      " 1   gross_mil  3359 non-null   float64\n",
      "dtypes: float64(1), object(1)\n",
      "memory usage: 78.7+ KB\n"
     ]
    }
   ],
   "source": [
    "movie_gross = movie_gross[['title', 'gross_mil']]\n",
    "movie_gross.dropna(inplace = True)\n",
    "movie_gross.info()"
   ]
  },
  {
   "cell_type": "code",
   "execution_count": null,
   "metadata": {},
   "outputs": [],
   "source": [
    "imdbreviews.head()"
   ]
  },
  {
   "cell_type": "code",
   "execution_count": null,
   "metadata": {},
   "outputs": [],
   "source": [
    "tmdb_movies.head()"
   ]
  },
  {
   "cell_type": "code",
   "execution_count": null,
   "metadata": {},
   "outputs": [],
   "source": [
    "movie_gross.head()"
   ]
  },
  {
   "cell_type": "code",
   "execution_count": 10,
   "metadata": {},
   "outputs": [
    {
     "name": "stdout",
     "output_type": "stream",
     "text": [
      "<class 'pandas.core.frame.DataFrame'>\n",
      "Int64Index: 3259 entries, 0 to 3258\n",
      "Data columns (total 7 columns):\n",
      " #   Column         Non-Null Count  Dtype  \n",
      "---  ------         --------------  -----  \n",
      " 0   tconst         3259 non-null   object \n",
      " 1   title          3259 non-null   object \n",
      " 2   start_year     3259 non-null   int64  \n",
      " 3   genres         3259 non-null   object \n",
      " 4   averagerating  3259 non-null   float64\n",
      " 5   vote_average   3259 non-null   float64\n",
      " 6   gross_mil      3259 non-null   float64\n",
      "dtypes: float64(3), int64(1), object(3)\n",
      "memory usage: 203.7+ KB\n"
     ]
    }
   ],
   "source": [
    "moviedf = imdbreviews.merge(tmdb_movies, on = 'title').merge(movie_gross, on = 'title')\n",
    "moviedf.info()"
   ]
  },
  {
   "cell_type": "code",
   "execution_count": 11,
   "metadata": {},
   "outputs": [
    {
     "data": {
      "text/html": [
       "<div>\n",
       "<style scoped>\n",
       "    .dataframe tbody tr th:only-of-type {\n",
       "        vertical-align: middle;\n",
       "    }\n",
       "\n",
       "    .dataframe tbody tr th {\n",
       "        vertical-align: top;\n",
       "    }\n",
       "\n",
       "    .dataframe thead th {\n",
       "        text-align: right;\n",
       "    }\n",
       "</style>\n",
       "<table border=\"1\" class=\"dataframe\">\n",
       "  <thead>\n",
       "    <tr style=\"text-align: right;\">\n",
       "      <th></th>\n",
       "      <th>tconst</th>\n",
       "      <th>title</th>\n",
       "      <th>start_year</th>\n",
       "      <th>genres</th>\n",
       "      <th>averagerating</th>\n",
       "      <th>vote_average</th>\n",
       "      <th>gross_mil</th>\n",
       "    </tr>\n",
       "  </thead>\n",
       "  <tbody>\n",
       "    <tr>\n",
       "      <th>0</th>\n",
       "      <td>tt0315642</td>\n",
       "      <td>Wazir</td>\n",
       "      <td>2016</td>\n",
       "      <td>Action,Crime,Drama</td>\n",
       "      <td>7.1</td>\n",
       "      <td>6.6</td>\n",
       "      <td>1.100</td>\n",
       "    </tr>\n",
       "    <tr>\n",
       "      <th>1</th>\n",
       "      <td>tt0337692</td>\n",
       "      <td>On the Road</td>\n",
       "      <td>2012</td>\n",
       "      <td>Adventure,Drama,Romance</td>\n",
       "      <td>6.1</td>\n",
       "      <td>5.6</td>\n",
       "      <td>0.744</td>\n",
       "    </tr>\n",
       "    <tr>\n",
       "      <th>2</th>\n",
       "      <td>tt4339118</td>\n",
       "      <td>On the Road</td>\n",
       "      <td>2014</td>\n",
       "      <td>Drama</td>\n",
       "      <td>6.0</td>\n",
       "      <td>5.6</td>\n",
       "      <td>0.744</td>\n",
       "    </tr>\n",
       "    <tr>\n",
       "      <th>3</th>\n",
       "      <td>tt5647250</td>\n",
       "      <td>On the Road</td>\n",
       "      <td>2016</td>\n",
       "      <td>Drama</td>\n",
       "      <td>5.7</td>\n",
       "      <td>5.6</td>\n",
       "      <td>0.744</td>\n",
       "    </tr>\n",
       "    <tr>\n",
       "      <th>4</th>\n",
       "      <td>tt0359950</td>\n",
       "      <td>The Secret Life of Walter Mitty</td>\n",
       "      <td>2013</td>\n",
       "      <td>Adventure,Comedy,Drama</td>\n",
       "      <td>7.3</td>\n",
       "      <td>7.1</td>\n",
       "      <td>58.200</td>\n",
       "    </tr>\n",
       "  </tbody>\n",
       "</table>\n",
       "</div>"
      ],
      "text/plain": [
       "      tconst                            title  start_year  \\\n",
       "0  tt0315642                            Wazir        2016   \n",
       "1  tt0337692                      On the Road        2012   \n",
       "2  tt4339118                      On the Road        2014   \n",
       "3  tt5647250                      On the Road        2016   \n",
       "4  tt0359950  The Secret Life of Walter Mitty        2013   \n",
       "\n",
       "                    genres  averagerating  vote_average  gross_mil  \n",
       "0       Action,Crime,Drama            7.1           6.6      1.100  \n",
       "1  Adventure,Drama,Romance            6.1           5.6      0.744  \n",
       "2                    Drama            6.0           5.6      0.744  \n",
       "3                    Drama            5.7           5.6      0.744  \n",
       "4   Adventure,Comedy,Drama            7.3           7.1     58.200  "
      ]
     },
     "execution_count": 11,
     "metadata": {},
     "output_type": "execute_result"
    }
   ],
   "source": [
    "moviedf.head()"
   ]
  },
  {
   "cell_type": "code",
   "execution_count": 15,
   "metadata": {
    "scrolled": true
   },
   "outputs": [
    {
     "name": "stdout",
     "output_type": "stream",
     "text": [
      "<class 'pandas.core.frame.DataFrame'>\n",
      "Int64Index: 3259 entries, 0 to 3258\n",
      "Data columns (total 8 columns):\n",
      " #   Column         Non-Null Count  Dtype  \n",
      "---  ------         --------------  -----  \n",
      " 0   tconst         3259 non-null   object \n",
      " 1   title          3259 non-null   object \n",
      " 2   start_year     3259 non-null   int64  \n",
      " 3   genres         3259 non-null   object \n",
      " 4   averagerating  3259 non-null   float64\n",
      " 5   vote_average   3259 non-null   float64\n",
      " 6   gross_mil      3259 non-null   float64\n",
      " 7   ratingave      0 non-null      float64\n",
      "dtypes: float64(4), int64(1), object(3)\n",
      "memory usage: 229.1+ KB\n"
     ]
    }
   ],
   "source": [
    "moviedf.info()"
   ]
  },
  {
   "cell_type": "code",
   "execution_count": 16,
   "metadata": {},
   "outputs": [
    {
     "data": {
      "text/html": [
       "<div>\n",
       "<style scoped>\n",
       "    .dataframe tbody tr th:only-of-type {\n",
       "        vertical-align: middle;\n",
       "    }\n",
       "\n",
       "    .dataframe tbody tr th {\n",
       "        vertical-align: top;\n",
       "    }\n",
       "\n",
       "    .dataframe thead th {\n",
       "        text-align: right;\n",
       "    }\n",
       "</style>\n",
       "<table border=\"1\" class=\"dataframe\">\n",
       "  <thead>\n",
       "    <tr style=\"text-align: right;\">\n",
       "      <th></th>\n",
       "      <th>tconst</th>\n",
       "      <th>title</th>\n",
       "      <th>start_year</th>\n",
       "      <th>genres</th>\n",
       "      <th>averagerating</th>\n",
       "      <th>vote_average</th>\n",
       "      <th>gross_mil</th>\n",
       "      <th>ratingave</th>\n",
       "    </tr>\n",
       "  </thead>\n",
       "  <tbody>\n",
       "    <tr>\n",
       "      <th>0</th>\n",
       "      <td>tt0315642</td>\n",
       "      <td>Wazir</td>\n",
       "      <td>2016</td>\n",
       "      <td>Action,Crime,Drama</td>\n",
       "      <td>7.1</td>\n",
       "      <td>6.6</td>\n",
       "      <td>1.100</td>\n",
       "      <td>6.85</td>\n",
       "    </tr>\n",
       "    <tr>\n",
       "      <th>1</th>\n",
       "      <td>tt0337692</td>\n",
       "      <td>On the Road</td>\n",
       "      <td>2012</td>\n",
       "      <td>Adventure,Drama,Romance</td>\n",
       "      <td>6.1</td>\n",
       "      <td>5.6</td>\n",
       "      <td>0.744</td>\n",
       "      <td>5.85</td>\n",
       "    </tr>\n",
       "    <tr>\n",
       "      <th>2</th>\n",
       "      <td>tt4339118</td>\n",
       "      <td>On the Road</td>\n",
       "      <td>2014</td>\n",
       "      <td>Drama</td>\n",
       "      <td>6.0</td>\n",
       "      <td>5.6</td>\n",
       "      <td>0.744</td>\n",
       "      <td>5.80</td>\n",
       "    </tr>\n",
       "    <tr>\n",
       "      <th>3</th>\n",
       "      <td>tt5647250</td>\n",
       "      <td>On the Road</td>\n",
       "      <td>2016</td>\n",
       "      <td>Drama</td>\n",
       "      <td>5.7</td>\n",
       "      <td>5.6</td>\n",
       "      <td>0.744</td>\n",
       "      <td>5.65</td>\n",
       "    </tr>\n",
       "    <tr>\n",
       "      <th>4</th>\n",
       "      <td>tt0359950</td>\n",
       "      <td>The Secret Life of Walter Mitty</td>\n",
       "      <td>2013</td>\n",
       "      <td>Adventure,Comedy,Drama</td>\n",
       "      <td>7.3</td>\n",
       "      <td>7.1</td>\n",
       "      <td>58.200</td>\n",
       "      <td>7.20</td>\n",
       "    </tr>\n",
       "  </tbody>\n",
       "</table>\n",
       "</div>"
      ],
      "text/plain": [
       "      tconst                            title  start_year  \\\n",
       "0  tt0315642                            Wazir        2016   \n",
       "1  tt0337692                      On the Road        2012   \n",
       "2  tt4339118                      On the Road        2014   \n",
       "3  tt5647250                      On the Road        2016   \n",
       "4  tt0359950  The Secret Life of Walter Mitty        2013   \n",
       "\n",
       "                    genres  averagerating  vote_average  gross_mil  ratingave  \n",
       "0       Action,Crime,Drama            7.1           6.6      1.100       6.85  \n",
       "1  Adventure,Drama,Romance            6.1           5.6      0.744       5.85  \n",
       "2                    Drama            6.0           5.6      0.744       5.80  \n",
       "3                    Drama            5.7           5.6      0.744       5.65  \n",
       "4   Adventure,Comedy,Drama            7.3           7.1     58.200       7.20  "
      ]
     },
     "execution_count": 16,
     "metadata": {},
     "output_type": "execute_result"
    }
   ],
   "source": [
    "moviedf['ratingave'] = (moviedf[\"averagerating\"] + moviedf[\"vote_average\"])/2\n",
    "moviedf.head()"
   ]
  },
  {
   "cell_type": "code",
   "execution_count": 68,
   "metadata": {},
   "outputs": [],
   "source": [
    "moviedf_small = moviedf_small.drop(columns = ['averagerating', 'vote_average'])"
   ]
  },
  {
   "cell_type": "code",
   "execution_count": 69,
   "metadata": {},
   "outputs": [
    {
     "data": {
      "text/html": [
       "<div>\n",
       "<style scoped>\n",
       "    .dataframe tbody tr th:only-of-type {\n",
       "        vertical-align: middle;\n",
       "    }\n",
       "\n",
       "    .dataframe tbody tr th {\n",
       "        vertical-align: top;\n",
       "    }\n",
       "\n",
       "    .dataframe thead th {\n",
       "        text-align: right;\n",
       "    }\n",
       "</style>\n",
       "<table border=\"1\" class=\"dataframe\">\n",
       "  <thead>\n",
       "    <tr style=\"text-align: right;\">\n",
       "      <th></th>\n",
       "      <th>tconst</th>\n",
       "      <th>title</th>\n",
       "      <th>start_year</th>\n",
       "      <th>genres</th>\n",
       "      <th>averagerating</th>\n",
       "      <th>vote_average</th>\n",
       "      <th>gross_mil</th>\n",
       "      <th>ratingave</th>\n",
       "    </tr>\n",
       "  </thead>\n",
       "  <tbody>\n",
       "    <tr>\n",
       "      <th>4</th>\n",
       "      <td>tt0359950</td>\n",
       "      <td>The Secret Life of Walter Mitty</td>\n",
       "      <td>2013</td>\n",
       "      <td>Adventure,Comedy,Drama</td>\n",
       "      <td>7.3</td>\n",
       "      <td>7.1</td>\n",
       "      <td>58.2</td>\n",
       "      <td>7.20</td>\n",
       "    </tr>\n",
       "    <tr>\n",
       "      <th>9</th>\n",
       "      <td>tt3079380</td>\n",
       "      <td>Spy</td>\n",
       "      <td>2015</td>\n",
       "      <td>Action,Comedy,Crime</td>\n",
       "      <td>7.0</td>\n",
       "      <td>7.0</td>\n",
       "      <td>110.8</td>\n",
       "      <td>7.00</td>\n",
       "    </tr>\n",
       "    <tr>\n",
       "      <th>15</th>\n",
       "      <td>tt0398286</td>\n",
       "      <td>Tangled</td>\n",
       "      <td>2010</td>\n",
       "      <td>Adventure,Animation,Comedy</td>\n",
       "      <td>7.8</td>\n",
       "      <td>7.5</td>\n",
       "      <td>200.8</td>\n",
       "      <td>7.65</td>\n",
       "    </tr>\n",
       "    <tr>\n",
       "      <th>31</th>\n",
       "      <td>tt0435761</td>\n",
       "      <td>Toy Story 3</td>\n",
       "      <td>2010</td>\n",
       "      <td>Adventure,Animation,Comedy</td>\n",
       "      <td>8.3</td>\n",
       "      <td>7.7</td>\n",
       "      <td>415.0</td>\n",
       "      <td>8.00</td>\n",
       "    </tr>\n",
       "    <tr>\n",
       "      <th>32</th>\n",
       "      <td>tt0443272</td>\n",
       "      <td>Lincoln</td>\n",
       "      <td>2012</td>\n",
       "      <td>Biography,Drama,History</td>\n",
       "      <td>7.4</td>\n",
       "      <td>6.8</td>\n",
       "      <td>182.2</td>\n",
       "      <td>7.10</td>\n",
       "    </tr>\n",
       "    <tr>\n",
       "      <th>...</th>\n",
       "      <td>...</td>\n",
       "      <td>...</td>\n",
       "      <td>...</td>\n",
       "      <td>...</td>\n",
       "      <td>...</td>\n",
       "      <td>...</td>\n",
       "      <td>...</td>\n",
       "      <td>...</td>\n",
       "    </tr>\n",
       "    <tr>\n",
       "      <th>3249</th>\n",
       "      <td>tt7745068</td>\n",
       "      <td>My Hero Academia: Two Heroes</td>\n",
       "      <td>2018</td>\n",
       "      <td>Action,Adventure,Animation</td>\n",
       "      <td>7.8</td>\n",
       "      <td>8.3</td>\n",
       "      <td>5.8</td>\n",
       "      <td>8.05</td>\n",
       "    </tr>\n",
       "    <tr>\n",
       "      <th>3250</th>\n",
       "      <td>tt7775622</td>\n",
       "      <td>Free Solo</td>\n",
       "      <td>2018</td>\n",
       "      <td>Documentary,Sport</td>\n",
       "      <td>8.2</td>\n",
       "      <td>8.0</td>\n",
       "      <td>17.5</td>\n",
       "      <td>8.10</td>\n",
       "    </tr>\n",
       "    <tr>\n",
       "      <th>3251</th>\n",
       "      <td>tt7784604</td>\n",
       "      <td>Hereditary</td>\n",
       "      <td>2018</td>\n",
       "      <td>Drama,Horror,Mystery</td>\n",
       "      <td>7.3</td>\n",
       "      <td>7.0</td>\n",
       "      <td>44.1</td>\n",
       "      <td>7.15</td>\n",
       "    </tr>\n",
       "    <tr>\n",
       "      <th>3252</th>\n",
       "      <td>tt7905466</td>\n",
       "      <td>They Shall Not Grow Old</td>\n",
       "      <td>2018</td>\n",
       "      <td>Documentary,History,War</td>\n",
       "      <td>8.4</td>\n",
       "      <td>8.1</td>\n",
       "      <td>18.0</td>\n",
       "      <td>8.25</td>\n",
       "    </tr>\n",
       "    <tr>\n",
       "      <th>3253</th>\n",
       "      <td>tt8075192</td>\n",
       "      <td>Shoplifters</td>\n",
       "      <td>2018</td>\n",
       "      <td>Crime,Drama</td>\n",
       "      <td>8.0</td>\n",
       "      <td>8.0</td>\n",
       "      <td>3.3</td>\n",
       "      <td>8.00</td>\n",
       "    </tr>\n",
       "  </tbody>\n",
       "</table>\n",
       "<p>492 rows × 8 columns</p>\n",
       "</div>"
      ],
      "text/plain": [
       "         tconst                            title  start_year  \\\n",
       "4     tt0359950  The Secret Life of Walter Mitty        2013   \n",
       "9     tt3079380                              Spy        2015   \n",
       "15    tt0398286                          Tangled        2010   \n",
       "31    tt0435761                      Toy Story 3        2010   \n",
       "32    tt0443272                          Lincoln        2012   \n",
       "...         ...                              ...         ...   \n",
       "3249  tt7745068     My Hero Academia: Two Heroes        2018   \n",
       "3250  tt7775622                        Free Solo        2018   \n",
       "3251  tt7784604                       Hereditary        2018   \n",
       "3252  tt7905466          They Shall Not Grow Old        2018   \n",
       "3253  tt8075192                      Shoplifters        2018   \n",
       "\n",
       "                          genres  averagerating  vote_average  gross_mil  \\\n",
       "4         Adventure,Comedy,Drama            7.3           7.1       58.2   \n",
       "9            Action,Comedy,Crime            7.0           7.0      110.8   \n",
       "15    Adventure,Animation,Comedy            7.8           7.5      200.8   \n",
       "31    Adventure,Animation,Comedy            8.3           7.7      415.0   \n",
       "32       Biography,Drama,History            7.4           6.8      182.2   \n",
       "...                          ...            ...           ...        ...   \n",
       "3249  Action,Adventure,Animation            7.8           8.3        5.8   \n",
       "3250           Documentary,Sport            8.2           8.0       17.5   \n",
       "3251        Drama,Horror,Mystery            7.3           7.0       44.1   \n",
       "3252     Documentary,History,War            8.4           8.1       18.0   \n",
       "3253                 Crime,Drama            8.0           8.0        3.3   \n",
       "\n",
       "      ratingave  \n",
       "4          7.20  \n",
       "9          7.00  \n",
       "15         7.65  \n",
       "31         8.00  \n",
       "32         7.10  \n",
       "...         ...  \n",
       "3249       8.05  \n",
       "3250       8.10  \n",
       "3251       7.15  \n",
       "3252       8.25  \n",
       "3253       8.00  \n",
       "\n",
       "[492 rows x 8 columns]"
      ]
     },
     "execution_count": 69,
     "metadata": {},
     "output_type": "execute_result"
    }
   ],
   "source": [
    "moviedf_small = moviedf[(moviedf['ratingave'] >= 7) &\n",
    "                        (moviedf['gross_mil'] >= 3)]\n",
    "moviedf_small"
   ]
  },
  {
   "cell_type": "code",
   "execution_count": 20,
   "metadata": {},
   "outputs": [
    {
     "data": {
      "text/html": [
       "<div>\n",
       "<style scoped>\n",
       "    .dataframe tbody tr th:only-of-type {\n",
       "        vertical-align: middle;\n",
       "    }\n",
       "\n",
       "    .dataframe tbody tr th {\n",
       "        vertical-align: top;\n",
       "    }\n",
       "\n",
       "    .dataframe thead th {\n",
       "        text-align: right;\n",
       "    }\n",
       "</style>\n",
       "<table border=\"1\" class=\"dataframe\">\n",
       "  <thead>\n",
       "    <tr style=\"text-align: right;\">\n",
       "      <th></th>\n",
       "      <th>tconst</th>\n",
       "      <th>title</th>\n",
       "      <th>start_year</th>\n",
       "      <th>genres</th>\n",
       "      <th>averagerating</th>\n",
       "      <th>vote_average</th>\n",
       "      <th>gross_mil</th>\n",
       "      <th>ratingave</th>\n",
       "    </tr>\n",
       "  </thead>\n",
       "  <tbody>\n",
       "    <tr>\n",
       "      <th>4</th>\n",
       "      <td>tt0359950</td>\n",
       "      <td>The Secret Life of Walter Mitty</td>\n",
       "      <td>2013</td>\n",
       "      <td>Adventure</td>\n",
       "      <td>7.3</td>\n",
       "      <td>7.1</td>\n",
       "      <td>58.2</td>\n",
       "      <td>7.2</td>\n",
       "    </tr>\n",
       "    <tr>\n",
       "      <th>4</th>\n",
       "      <td>tt0359950</td>\n",
       "      <td>The Secret Life of Walter Mitty</td>\n",
       "      <td>2013</td>\n",
       "      <td>Comedy</td>\n",
       "      <td>7.3</td>\n",
       "      <td>7.1</td>\n",
       "      <td>58.2</td>\n",
       "      <td>7.2</td>\n",
       "    </tr>\n",
       "    <tr>\n",
       "      <th>4</th>\n",
       "      <td>tt0359950</td>\n",
       "      <td>The Secret Life of Walter Mitty</td>\n",
       "      <td>2013</td>\n",
       "      <td>Drama</td>\n",
       "      <td>7.3</td>\n",
       "      <td>7.1</td>\n",
       "      <td>58.2</td>\n",
       "      <td>7.2</td>\n",
       "    </tr>\n",
       "    <tr>\n",
       "      <th>9</th>\n",
       "      <td>tt3079380</td>\n",
       "      <td>Spy</td>\n",
       "      <td>2015</td>\n",
       "      <td>Action</td>\n",
       "      <td>7.0</td>\n",
       "      <td>7.0</td>\n",
       "      <td>110.8</td>\n",
       "      <td>7.0</td>\n",
       "    </tr>\n",
       "    <tr>\n",
       "      <th>9</th>\n",
       "      <td>tt3079380</td>\n",
       "      <td>Spy</td>\n",
       "      <td>2015</td>\n",
       "      <td>Comedy</td>\n",
       "      <td>7.0</td>\n",
       "      <td>7.0</td>\n",
       "      <td>110.8</td>\n",
       "      <td>7.0</td>\n",
       "    </tr>\n",
       "  </tbody>\n",
       "</table>\n",
       "</div>"
      ],
      "text/plain": [
       "      tconst                            title  start_year     genres  \\\n",
       "4  tt0359950  The Secret Life of Walter Mitty        2013  Adventure   \n",
       "4  tt0359950  The Secret Life of Walter Mitty        2013     Comedy   \n",
       "4  tt0359950  The Secret Life of Walter Mitty        2013      Drama   \n",
       "9  tt3079380                              Spy        2015     Action   \n",
       "9  tt3079380                              Spy        2015     Comedy   \n",
       "\n",
       "   averagerating  vote_average  gross_mil  ratingave  \n",
       "4            7.3           7.1       58.2        7.2  \n",
       "4            7.3           7.1       58.2        7.2  \n",
       "4            7.3           7.1       58.2        7.2  \n",
       "9            7.0           7.0      110.8        7.0  \n",
       "9            7.0           7.0      110.8        7.0  "
      ]
     },
     "execution_count": 20,
     "metadata": {},
     "output_type": "execute_result"
    }
   ],
   "source": [
    "# We want to split the genre column for analysis, so that each genre is on its own\n",
    "moviedf_small = moviedf_small.assign(genres = moviedf_small['genres'].str.split(',')).explode('genres')\n",
    "moviedf_small.head()"
   ]
  },
  {
   "cell_type": "code",
   "execution_count": 24,
   "metadata": {},
   "outputs": [
    {
     "data": {
      "text/plain": [
       "array(['Adventure', 'Comedy', 'Drama', 'Action', 'Crime', 'Animation',\n",
       "       'Biography', 'History', 'Fantasy', 'Documentary', 'Sport',\n",
       "       'Thriller', 'Mystery', 'Sci-Fi', 'Romance', 'War', 'Family',\n",
       "       'Music', 'Horror', 'Western', 'Musical'], dtype=object)"
      ]
     },
     "execution_count": 24,
     "metadata": {},
     "output_type": "execute_result"
    }
   ],
   "source": [
    "moviedf_small['genres'].unique()"
   ]
  },
  {
   "cell_type": "code",
   "execution_count": 25,
   "metadata": {},
   "outputs": [
    {
     "data": {
      "text/plain": [
       "21"
      ]
     },
     "execution_count": 25,
     "metadata": {},
     "output_type": "execute_result"
    }
   ],
   "source": [
    "len(moviedf_small['genres'].unique())"
   ]
  },
  {
   "cell_type": "code",
   "execution_count": null,
   "metadata": {},
   "outputs": [],
   "source": []
  },
  {
   "cell_type": "code",
   "execution_count": null,
   "metadata": {},
   "outputs": [],
   "source": []
  },
  {
   "cell_type": "code",
   "execution_count": 26,
   "metadata": {},
   "outputs": [
    {
     "data": {
      "text/html": [
       "<div>\n",
       "<style scoped>\n",
       "    .dataframe tbody tr th:only-of-type {\n",
       "        vertical-align: middle;\n",
       "    }\n",
       "\n",
       "    .dataframe tbody tr th {\n",
       "        vertical-align: top;\n",
       "    }\n",
       "\n",
       "    .dataframe thead th {\n",
       "        text-align: right;\n",
       "    }\n",
       "</style>\n",
       "<table border=\"1\" class=\"dataframe\">\n",
       "  <thead>\n",
       "    <tr style=\"text-align: right;\">\n",
       "      <th></th>\n",
       "      <th>title</th>\n",
       "    </tr>\n",
       "    <tr>\n",
       "      <th>genres</th>\n",
       "      <th></th>\n",
       "    </tr>\n",
       "  </thead>\n",
       "  <tbody>\n",
       "    <tr>\n",
       "      <th>Drama</th>\n",
       "      <td>250</td>\n",
       "    </tr>\n",
       "    <tr>\n",
       "      <th>Comedy</th>\n",
       "      <td>102</td>\n",
       "    </tr>\n",
       "    <tr>\n",
       "      <th>Adventure</th>\n",
       "      <td>90</td>\n",
       "    </tr>\n",
       "    <tr>\n",
       "      <th>Action</th>\n",
       "      <td>79</td>\n",
       "    </tr>\n",
       "    <tr>\n",
       "      <th>Biography</th>\n",
       "      <td>77</td>\n",
       "    </tr>\n",
       "    <tr>\n",
       "      <th>Crime</th>\n",
       "      <td>54</td>\n",
       "    </tr>\n",
       "    <tr>\n",
       "      <th>Thriller</th>\n",
       "      <td>51</td>\n",
       "    </tr>\n",
       "    <tr>\n",
       "      <th>Romance</th>\n",
       "      <td>46</td>\n",
       "    </tr>\n",
       "    <tr>\n",
       "      <th>Documentary</th>\n",
       "      <td>37</td>\n",
       "    </tr>\n",
       "    <tr>\n",
       "      <th>Animation</th>\n",
       "      <td>35</td>\n",
       "    </tr>\n",
       "    <tr>\n",
       "      <th>Sci-Fi</th>\n",
       "      <td>29</td>\n",
       "    </tr>\n",
       "    <tr>\n",
       "      <th>History</th>\n",
       "      <td>29</td>\n",
       "    </tr>\n",
       "    <tr>\n",
       "      <th>Mystery</th>\n",
       "      <td>23</td>\n",
       "    </tr>\n",
       "    <tr>\n",
       "      <th>Fantasy</th>\n",
       "      <td>18</td>\n",
       "    </tr>\n",
       "    <tr>\n",
       "      <th>Horror</th>\n",
       "      <td>16</td>\n",
       "    </tr>\n",
       "    <tr>\n",
       "      <th>Sport</th>\n",
       "      <td>16</td>\n",
       "    </tr>\n",
       "    <tr>\n",
       "      <th>Family</th>\n",
       "      <td>16</td>\n",
       "    </tr>\n",
       "    <tr>\n",
       "      <th>Music</th>\n",
       "      <td>14</td>\n",
       "    </tr>\n",
       "    <tr>\n",
       "      <th>War</th>\n",
       "      <td>6</td>\n",
       "    </tr>\n",
       "    <tr>\n",
       "      <th>Western</th>\n",
       "      <td>2</td>\n",
       "    </tr>\n",
       "    <tr>\n",
       "      <th>Musical</th>\n",
       "      <td>1</td>\n",
       "    </tr>\n",
       "  </tbody>\n",
       "</table>\n",
       "</div>"
      ],
      "text/plain": [
       "             title\n",
       "genres            \n",
       "Drama          250\n",
       "Comedy         102\n",
       "Adventure       90\n",
       "Action          79\n",
       "Biography       77\n",
       "Crime           54\n",
       "Thriller        51\n",
       "Romance         46\n",
       "Documentary     37\n",
       "Animation       35\n",
       "Sci-Fi          29\n",
       "History         29\n",
       "Mystery         23\n",
       "Fantasy         18\n",
       "Horror          16\n",
       "Sport           16\n",
       "Family          16\n",
       "Music           14\n",
       "War              6\n",
       "Western          2\n",
       "Musical          1"
      ]
     },
     "execution_count": 26,
     "metadata": {},
     "output_type": "execute_result"
    }
   ],
   "source": [
    "topratings_genre = (pd.DataFrame(moviedf_small.groupby('genres').title.nunique())).sort_values(\n",
    "    'title', ascending = False)\n",
    "\n",
    "topratings_genre"
   ]
  },
  {
   "cell_type": "code",
   "execution_count": 27,
   "metadata": {},
   "outputs": [
    {
     "data": {
      "image/png": "[encoded data removed]",
      "text/plain": [
       "<Figure size 576x576 with 1 Axes>"
      ]
     },
     "metadata": {
      "needs_background": "light"
     },
     "output_type": "display_data"
    }
   ],
   "source": [
    "topratings_genre[['title']].plot.barh(\n",
    "    stacked = True, title = 'Genres with Average Rating at least 7.0', figsize=(8, 8));"
   ]
  },
  {
   "cell_type": "code",
   "execution_count": 38,
   "metadata": {},
   "outputs": [
    {
     "data": {
      "text/html": [
       "<div>\n",
       "<style scoped>\n",
       "    .dataframe tbody tr th:only-of-type {\n",
       "        vertical-align: middle;\n",
       "    }\n",
       "\n",
       "    .dataframe tbody tr th {\n",
       "        vertical-align: top;\n",
       "    }\n",
       "\n",
       "    .dataframe thead th {\n",
       "        text-align: right;\n",
       "    }\n",
       "</style>\n",
       "<table border=\"1\" class=\"dataframe\">\n",
       "  <thead>\n",
       "    <tr style=\"text-align: right;\">\n",
       "      <th></th>\n",
       "      <th>count</th>\n",
       "      <th>mean</th>\n",
       "    </tr>\n",
       "    <tr>\n",
       "      <th>genres</th>\n",
       "      <th></th>\n",
       "      <th></th>\n",
       "    </tr>\n",
       "  </thead>\n",
       "  <tbody>\n",
       "    <tr>\n",
       "      <th>Music</th>\n",
       "      <td>16</td>\n",
       "      <td>7.687500</td>\n",
       "    </tr>\n",
       "    <tr>\n",
       "      <th>Sci-Fi</th>\n",
       "      <td>33</td>\n",
       "      <td>7.610606</td>\n",
       "    </tr>\n",
       "    <tr>\n",
       "      <th>Animation</th>\n",
       "      <td>44</td>\n",
       "      <td>7.522727</td>\n",
       "    </tr>\n",
       "    <tr>\n",
       "      <th>Mystery</th>\n",
       "      <td>28</td>\n",
       "      <td>7.512500</td>\n",
       "    </tr>\n",
       "    <tr>\n",
       "      <th>Adventure</th>\n",
       "      <td>104</td>\n",
       "      <td>7.512019</td>\n",
       "    </tr>\n",
       "    <tr>\n",
       "      <th>Documentary</th>\n",
       "      <td>41</td>\n",
       "      <td>7.492683</td>\n",
       "    </tr>\n",
       "    <tr>\n",
       "      <th>Biography</th>\n",
       "      <td>95</td>\n",
       "      <td>7.484211</td>\n",
       "    </tr>\n",
       "    <tr>\n",
       "      <th>Action</th>\n",
       "      <td>91</td>\n",
       "      <td>7.483516</td>\n",
       "    </tr>\n",
       "    <tr>\n",
       "      <th>Crime</th>\n",
       "      <td>66</td>\n",
       "      <td>7.481061</td>\n",
       "    </tr>\n",
       "    <tr>\n",
       "      <th>History</th>\n",
       "      <td>38</td>\n",
       "      <td>7.475000</td>\n",
       "    </tr>\n",
       "    <tr>\n",
       "      <th>War</th>\n",
       "      <td>6</td>\n",
       "      <td>7.466667</td>\n",
       "    </tr>\n",
       "    <tr>\n",
       "      <th>Drama</th>\n",
       "      <td>323</td>\n",
       "      <td>7.463313</td>\n",
       "    </tr>\n",
       "    <tr>\n",
       "      <th>Thriller</th>\n",
       "      <td>61</td>\n",
       "      <td>7.441803</td>\n",
       "    </tr>\n",
       "    <tr>\n",
       "      <th>Comedy</th>\n",
       "      <td>123</td>\n",
       "      <td>7.439837</td>\n",
       "    </tr>\n",
       "    <tr>\n",
       "      <th>Fantasy</th>\n",
       "      <td>23</td>\n",
       "      <td>7.439130</td>\n",
       "    </tr>\n",
       "    <tr>\n",
       "      <th>Romance</th>\n",
       "      <td>56</td>\n",
       "      <td>7.406250</td>\n",
       "    </tr>\n",
       "    <tr>\n",
       "      <th>Horror</th>\n",
       "      <td>19</td>\n",
       "      <td>7.371053</td>\n",
       "    </tr>\n",
       "    <tr>\n",
       "      <th>Sport</th>\n",
       "      <td>19</td>\n",
       "      <td>7.352632</td>\n",
       "    </tr>\n",
       "    <tr>\n",
       "      <th>Family</th>\n",
       "      <td>18</td>\n",
       "      <td>7.350000</td>\n",
       "    </tr>\n",
       "  </tbody>\n",
       "</table>\n",
       "</div>"
      ],
      "text/plain": [
       "             count      mean\n",
       "genres                      \n",
       "Music           16  7.687500\n",
       "Sci-Fi          33  7.610606\n",
       "Animation       44  7.522727\n",
       "Mystery         28  7.512500\n",
       "Adventure      104  7.512019\n",
       "Documentary     41  7.492683\n",
       "Biography       95  7.484211\n",
       "Action          91  7.483516\n",
       "Crime           66  7.481061\n",
       "History         38  7.475000\n",
       "War              6  7.466667\n",
       "Drama          323  7.463313\n",
       "Thriller        61  7.441803\n",
       "Comedy         123  7.439837\n",
       "Fantasy         23  7.439130\n",
       "Romance         56  7.406250\n",
       "Horror          19  7.371053\n",
       "Sport           19  7.352632\n",
       "Family          18  7.350000"
      ]
     },
     "execution_count": 38,
     "metadata": {},
     "output_type": "execute_result"
    }
   ],
   "source": [
    "genre_ratings = moviedf_small.groupby('genres').ratingave.agg(['count','mean']).sort_values(\n",
    "    'mean', ascending = False)\n",
    "genre_ratings[genre_ratings['count'] >= 5]"
   ]
  },
  {
   "cell_type": "code",
   "execution_count": 59,
   "metadata": {},
   "outputs": [],
   "source": [
    "topratings_gross = moviedf_small[['title', 'genres', 'gross_mil']]\n",
    "topratings_gross = topratings_gross.groupby(['genres']).mean()\n",
    "topratings_gross.sort_values('gross_mil', ascending = False, inplace = True)"
   ]
  },
  {
   "cell_type": "code",
   "execution_count": 60,
   "metadata": {},
   "outputs": [
    {
     "data": {
      "image/png": "[encoded data removed]",
      "text/plain": [
       "<Figure size 576x576 with 1 Axes>"
      ]
     },
     "metadata": {
      "needs_background": "light"
     },
     "output_type": "display_data"
    }
   ],
   "source": [
    "topratings_gross[['gross_mil']].plot.barh(stacked = True,\n",
    "                                          title = 'Genres by Gross Earnings (US$ million)',\n",
    "                                          figsize=(8, 8));"
   ]
  },
  {
   "cell_type": "code",
   "execution_count": null,
   "metadata": {},
   "outputs": [],
   "source": []
  },
  {
   "cell_type": "code",
   "execution_count": 64,
   "metadata": {
    "scrolled": true
   },
   "outputs": [
    {
     "data": {
      "image/png": "[encoded data removed]",
      "text/plain": [
       "<Figure size 432x288 with 1 Axes>"
      ]
     },
     "metadata": {
      "needs_background": "light"
     },
     "output_type": "display_data"
    }
   ],
   "source": [
    "moviedf_small.plot(kind = 'scatter', x = 'ratingave', y = 'gross_mil');"
   ]
  },
  {
   "cell_type": "code",
   "execution_count": 65,
   "metadata": {},
   "outputs": [
    {
     "data": {
      "text/html": [
       "<div>\n",
       "<style scoped>\n",
       "    .dataframe tbody tr th:only-of-type {\n",
       "        vertical-align: middle;\n",
       "    }\n",
       "\n",
       "    .dataframe tbody tr th {\n",
       "        vertical-align: top;\n",
       "    }\n",
       "\n",
       "    .dataframe thead th {\n",
       "        text-align: right;\n",
       "    }\n",
       "</style>\n",
       "<table border=\"1\" class=\"dataframe\">\n",
       "  <thead>\n",
       "    <tr style=\"text-align: right;\">\n",
       "      <th></th>\n",
       "      <th>start_year</th>\n",
       "      <th>averagerating</th>\n",
       "      <th>vote_average</th>\n",
       "      <th>gross_mil</th>\n",
       "      <th>ratingave</th>\n",
       "    </tr>\n",
       "  </thead>\n",
       "  <tbody>\n",
       "    <tr>\n",
       "      <th>start_year</th>\n",
       "      <td>1.000000</td>\n",
       "      <td>0.018629</td>\n",
       "      <td>0.150088</td>\n",
       "      <td>0.094231</td>\n",
       "      <td>0.130957</td>\n",
       "    </tr>\n",
       "    <tr>\n",
       "      <th>averagerating</th>\n",
       "      <td>0.018629</td>\n",
       "      <td>1.000000</td>\n",
       "      <td>-0.042627</td>\n",
       "      <td>0.143169</td>\n",
       "      <td>0.610765</td>\n",
       "    </tr>\n",
       "    <tr>\n",
       "      <th>vote_average</th>\n",
       "      <td>0.150088</td>\n",
       "      <td>-0.042627</td>\n",
       "      <td>1.000000</td>\n",
       "      <td>-0.003326</td>\n",
       "      <td>0.765057</td>\n",
       "    </tr>\n",
       "    <tr>\n",
       "      <th>gross_mil</th>\n",
       "      <td>0.094231</td>\n",
       "      <td>0.143169</td>\n",
       "      <td>-0.003326</td>\n",
       "      <td>1.000000</td>\n",
       "      <td>0.089643</td>\n",
       "    </tr>\n",
       "    <tr>\n",
       "      <th>ratingave</th>\n",
       "      <td>0.130957</td>\n",
       "      <td>0.610765</td>\n",
       "      <td>0.765057</td>\n",
       "      <td>0.089643</td>\n",
       "      <td>1.000000</td>\n",
       "    </tr>\n",
       "  </tbody>\n",
       "</table>\n",
       "</div>"
      ],
      "text/plain": [
       "               start_year  averagerating  vote_average  gross_mil  ratingave\n",
       "start_year       1.000000       0.018629      0.150088   0.094231   0.130957\n",
       "averagerating    0.018629       1.000000     -0.042627   0.143169   0.610765\n",
       "vote_average     0.150088      -0.042627      1.000000  -0.003326   0.765057\n",
       "gross_mil        0.094231       0.143169     -0.003326   1.000000   0.089643\n",
       "ratingave        0.130957       0.610765      0.765057   0.089643   1.000000"
      ]
     },
     "execution_count": 65,
     "metadata": {},
     "output_type": "execute_result"
    }
   ],
   "source": [
    "moviedf_small.corr()"
   ]
  },
  {
   "cell_type": "markdown",
   "metadata": {},
   "source": [
    "There is a very weak, positive correlation between rating average and gross earnings, with a correlation coefficient of 0.0896\n",
    "\n",
    "This is a weak, positive correlation rating average and year of movie release, 0.131"
   ]
  },
  {
   "cell_type": "code",
   "execution_count": null,
   "metadata": {},
   "outputs": [],
   "source": []
  },
  {
   "cell_type": "code",
   "execution_count": null,
   "metadata": {},
   "outputs": [],
   "source": []
  },
  {
   "cell_type": "code",
   "execution_count": null,
   "metadata": {},
   "outputs": [],
   "source": [
    "import code.data_preparation as dp"
   ]
  },
  {
   "cell_type": "code",
   "execution_count": null,
   "metadata": {},
   "outputs": [],
   "source": []
  },
  {
   "cell_type": "code",
   "execution_count": null,
   "metadata": {},
   "outputs": [],
   "source": [
    "# Import the visualization package you created\n",
    "\n",
    "import code.visualizations as viz"
   ]
  },
  {
   "cell_type": "code",
   "execution_count": null,
   "metadata": {},
   "outputs": [],
   "source": [
    "# This example function takes no arguments currently, but you would pass the full dataset to it for your project\n",
    "\n",
    "viz.sample_plot_1()"
   ]
  },
  {
   "cell_type": "markdown",
   "metadata": {},
   "source": [
    "## Data Preparation\n",
    "\n",
    "Describe and justify the process for preparing the data for analysis.\n",
    "\n",
    "***\n",
    "Questions to consider:\n",
    "* Were there variables you dropped or created?\n",
    "* How did you address missing values or outliers?\n",
    "* Why are these choices appropriate given the data and the business problem?\n",
    "***"
   ]
  },
  {
   "cell_type": "code",
   "execution_count": null,
   "metadata": {},
   "outputs": [],
   "source": [
    "# here you run your code to clean the data\n",
    "import code.data_cleaning as dc\n",
    "\n",
    "full_dataset = dc.full_clean()"
   ]
  },
  {
   "cell_type": "markdown",
   "metadata": {},
   "source": [
    "## Data Modeling\n",
    "Describe and justify the process for analyzing or modeling the data.\n",
    "\n",
    "***\n",
    "Questions to consider:\n",
    "* How did you analyze or model the data?\n",
    "* How did you iterate on your initial approach to make it better?\n",
    "* Why are these choices appropriate given the data and the business problem?\n",
    "***"
   ]
  },
  {
   "cell_type": "code",
   "execution_count": null,
   "metadata": {},
   "outputs": [],
   "source": [
    "# here you run your code to model the data\n"
   ]
  },
  {
   "cell_type": "markdown",
   "metadata": {},
   "source": [
    "## Evaluation\n",
    "Evaluate how well your work solves the stated business problem.\n",
    "\n",
    "***\n",
    "Questions to consider:\n",
    "* How do you interpret the results?\n",
    "* How well does your model fit your data? How much better is this than your baseline model?\n",
    "* How confident are you that your results would generalize beyond the data you have?\n",
    "* How confident are you that this model would benefit the business if put into use?\n",
    "***"
   ]
  },
  {
   "cell_type": "markdown",
   "metadata": {},
   "source": [
    "## Conclusions\n",
    "Provide your conclusions about the work you've done, including any limitations or next steps.\n",
    "\n",
    "***\n",
    "Questions to consider:\n",
    "* What would you recommend the business do as a result of this work?\n",
    "* What are some reasons why your analysis might not fully solve the business problem?\n",
    "* What else could you do in the future to improve this project?\n",
    "***"
   ]
  }
 ],
 "metadata": {
  "kernelspec": {
   "display_name": "Python 3",
   "language": "python",
   "name": "python3"
  },
  "language_info": {
   "codemirror_mode": {
    "name": "ipython",
    "version": 3
   },
   "file_extension": ".py",
   "mimetype": "text/x-python",
   "name": "python",
   "nbconvert_exporter": "python",
   "pygments_lexer": "ipython3",
   "version": "3.8.5"
  }
 },
 "nbformat": 4,
 "nbformat_minor": 4
}
